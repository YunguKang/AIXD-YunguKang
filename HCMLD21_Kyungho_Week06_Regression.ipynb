{
  "nbformat": 4,
  "nbformat_minor": 0,
  "metadata": {
    "colab": {
      "name": "HCMLD21-Kyungho-Week06-Regression.ipynb",
      "provenance": [],
      "include_colab_link": true
    },
    "kernelspec": {
      "name": "python3",
      "display_name": "Python 3"
    },
    "language_info": {
      "name": "python"
    }
  },
  "cells": [
    {
      "cell_type": "markdown",
      "metadata": {
        "id": "view-in-github",
        "colab_type": "text"
      },
      "source": [
        "<a href=\"https://colab.research.google.com/github/YunguKang/AIXD-YunguKang/blob/main/HCMLD21_Kyungho_Week06_Regression.ipynb\" target=\"_parent\"><img src=\"https://colab.research.google.com/assets/colab-badge.svg\" alt=\"Open In Colab\"/></a>"
      ]
    },
    {
      "cell_type": "code",
      "metadata": {
        "colab": {
          "base_uri": "https://localhost:8080/"
        },
        "id": "KKsrF2DRAmi2",
        "outputId": "6f8d6d26-fd97-464f-9ea0-0f45d6c33287"
      },
      "source": [
        "from pandas import read_csv\n",
        "from keras.models import Sequential\n",
        "from keras.layers import Dense\n",
        "from keras.wrappers.scikit_learn import KerasRegressor\n",
        "from sklearn.model_selection import cross_val_score\n",
        "from sklearn.model_selection import KFold\n",
        "from sklearn.preprocessing import StandardScaler\n",
        "from sklearn.pipeline import Pipeline\n",
        "\n",
        "import os\n",
        "import urllib.request\n",
        "import csv\n",
        "import numpy as np\n",
        "from numpy import loadtxt\n",
        "\n",
        "CSV_URL = \"https://raw.githubusercontent.com/klee141/hcmld21/main/Datasets/housing.csv\"\n",
        "urllib.request.urlretrieve(CSV_URL, 'housing.csv')\n",
        "os.listdir()"
      ],
      "execution_count": null,
      "outputs": [
        {
          "output_type": "execute_result",
          "data": {
            "text/plain": [
              "['.config', 'iris.cs', 'housing.csv', 'sample_data']"
            ]
          },
          "metadata": {
            "tags": []
          },
          "execution_count": 91
        }
      ]
    },
    {
      "cell_type": "code",
      "metadata": {
        "id": "nP5MVxkgB0Zd"
      },
      "source": [
        "# The dataset describes 13 numerical properties of houses in Boston suburbs and is concerned with modeling the price of houses in those suburbs in thousands of dollars. \n",
        "# As such, this is a regression predictive modeling problem. Input attributes include things like crime rate, proportion of nonretail business acres, chemical concentrations and more.\n",
        "dataset = loadtxt('./housing.csv', delimiter=',')"
      ],
      "execution_count": null,
      "outputs": []
    },
    {
      "cell_type": "code",
      "metadata": {
        "id": "jh21kuEAAnMt"
      },
      "source": [
        "X = dataset[:, 0:13]\n",
        "Y = dataset[:, 13]\n",
        "\n",
        "from sklearn.model_selection import train_test_split\n",
        "\n",
        "X_train, X_validation, Y_train, Y_validation = train_test_split(X, Y, test_size=0.2)\n"
      ],
      "execution_count": null,
      "outputs": []
    },
    {
      "cell_type": "code",
      "metadata": {
        "colab": {
          "base_uri": "https://localhost:8080/"
        },
        "id": "WbnX-Dyke8QE",
        "outputId": "b9b728cc-1d08-4ebf-826d-53160044d575"
      },
      "source": [
        "model = Sequential()\n",
        "model.add(Dense(30, input_dim=13, activation='relu'))\n",
        "model.add(Dense(6, activation='relu'))\n",
        "model.add(Dense(1))\n",
        "\n",
        "model.compile(loss='mean_squared_error', optimizer='adam')\n",
        "\n",
        "model.fit(X_train, Y_train, epochs=200, batch_size=10, verbose=0)\n",
        "\n",
        "Y_prediction = model.predict(X_validation).flatten()\n",
        "\n",
        "for i in range(10):\n",
        "  real_price = Y_validation[i]\n",
        "  predicted_price = Y_prediction[i]\n",
        "  print('Real Price: {:.3f}, Predicted Price: {:.3f}'.format(real_price, predicted_price))"
      ],
      "execution_count": null,
      "outputs": [
        {
          "output_type": "stream",
          "text": [
            "Real Price: 23.500, Predicted Price: 31.588\n",
            "Real Price: 22.800, Predicted Price: 26.422\n",
            "Real Price: 20.500, Predicted Price: 18.907\n",
            "Real Price: 29.000, Predicted Price: 27.647\n",
            "Real Price: 19.500, Predicted Price: 21.801\n",
            "Real Price: 15.600, Predicted Price: 17.959\n",
            "Real Price: 20.100, Predicted Price: 16.332\n",
            "Real Price: 32.200, Predicted Price: 23.907\n",
            "Real Price: 21.100, Predicted Price: 23.252\n",
            "Real Price: 20.200, Predicted Price: 14.157\n"
          ],
          "name": "stdout"
        }
      ]
    },
    {
      "cell_type": "code",
      "metadata": {
        "colab": {
          "base_uri": "https://localhost:8080/"
        },
        "id": "4b7U98MQff8Y",
        "outputId": "7feb6aa8-bf2c-4499-e13f-5f818f3a6159"
      },
      "source": [
        "X_train[9].shape\n",
        "X_train[9]"
      ],
      "execution_count": null,
      "outputs": [
        {
          "output_type": "execute_result",
          "data": {
            "text/plain": [
              "array([4.5600e-02, 0.0000e+00, 1.3890e+01, 1.0000e+00, 5.5000e-01,\n",
              "       5.8880e+00, 5.6000e+01, 3.1121e+00, 5.0000e+00, 2.7600e+02,\n",
              "       1.6400e+01, 3.9280e+02, 1.3510e+01])"
            ]
          },
          "metadata": {
            "tags": []
          },
          "execution_count": 95
        }
      ]
    },
    {
      "cell_type": "code",
      "metadata": {
        "colab": {
          "base_uri": "https://localhost:8080/"
        },
        "id": "dzjJ61zXfUR0",
        "outputId": "0d94fa85-fd1a-4efc-eb5b-2951fb960b61"
      },
      "source": [
        "# let's test a new input \n",
        "new_input = np.array([ [4.5600e-02, 0.0000e+00, 1.3890e+01, 1.0000e+00, 5.5000e-01,\n",
        "       5.8880e+00, 5.6000e+01, 3.1121e+00, 5.0000e+00, 2.7600e+02,\n",
        "       1.6400e+01, 3.9280e+02, 1.3510e+01] ]) # make sure you're adding 8 numbers in a numpy array such as [[ ]]\n",
        "print(new_input.shape) # check your input dimensions \n",
        "\n",
        "res = model.predict(new_input)\n",
        "print(res)"
      ],
      "execution_count": null,
      "outputs": [
        {
          "output_type": "stream",
          "text": [
            "(1, 13)\n",
            "[[23.808277]]\n"
          ],
          "name": "stdout"
        }
      ]
    },
    {
      "cell_type": "code",
      "metadata": {
        "colab": {
          "base_uri": "https://localhost:8080/"
        },
        "id": "IIUbnMyuDOY4",
        "outputId": "a0b6c5ed-b9a6-47ab-b273-1faac11429a1"
      },
      "source": [
        "new_input"
      ],
      "execution_count": null,
      "outputs": [
        {
          "output_type": "execute_result",
          "data": {
            "text/plain": [
              "array([[-0.30106824,  1.51372906, -0.64065973, -0.30797881, -1.10822984,\n",
              "        -0.02477221, -0.64882234,  1.44258318, -0.12154835, -0.45597348,\n",
              "        -0.64318498,  0.41832418, -0.55098808]])"
            ]
          },
          "metadata": {
            "tags": []
          },
          "execution_count": 76
        }
      ]
    },
    {
      "cell_type": "code",
      "metadata": {
        "id": "umHjthfIgMfr"
      },
      "source": [
        ""
      ],
      "execution_count": null,
      "outputs": []
    }
  ]
}